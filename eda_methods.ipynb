{
 "cells": [
  {
   "cell_type": "markdown",
   "metadata": {},
   "source": [
    "# Exploratory Data Analysis"
   ]
  },
  {
   "cell_type": "markdown",
   "metadata": {},
   "source": [
    "Using example data from [Kaggle](https://www.kaggle.com/cyaris/2016-mlb-season) about the 2016 MLB season, we will investigate the data using exploratory data analysis (EDA) and catalogue various EDA methods that can be used prior to performing data analysis or fitting a machine learning model. Exact methods used in a given project will vary based on the project goals.\n",
    "\n",
    "The following variables, which represent a subset of the full dataset, will be used: <br>\n",
    "- **game_type** — is the game during the day or at night<br>\n",
    "- **day_of_week** — what day of the week did the game occur<br>\n",
    "- **temperature** — average game temperature (Fahrenheit)<br>\n",
    "- **sky** — description of sky condition at the time of the game<br>\n",
    "- **total_runs** — total runs scored in the game<br>\n",
    "- **attendance** - total game attendence\n",
    "\n",
    "Through EDA, we will investigate:<br>\n",
    "- Data types\n",
    "- Missing data and how it is coded\n",
    "- How discrete/categorical data is coded\n",
    "- How the data are scaled\n",
    "- Outliers\n",
    "- Distributions of continuous features\n",
    "- Relationships between pairs of features"
   ]
  },
  {
   "cell_type": "markdown",
   "metadata": {},
   "source": [
    "## Import data and modules"
   ]
  },
  {
   "cell_type": "code",
   "execution_count": 22,
   "metadata": {},
   "outputs": [],
   "source": [
    "import pandas as pd\n",
    "import numpy as np\n",
    "import matplotlib.pyplot as plt\n",
    "import seaborn as sns"
   ]
  },
  {
   "cell_type": "code",
   "execution_count": 2,
   "metadata": {},
   "outputs": [],
   "source": [
    "# import dataset downloaded from Kaggle (https://www.kaggle.com/cyaris/2016-mlb-season)\n",
    "bb = pd.read_csv('baseball_reference_2016_clean.csv')\n",
    "\n",
    "# select a subset of dataset\n",
    "bb = bb[['game_type','day_of_week','temperature','sky','total_runs', 'attendance']]"
   ]
  },
  {
   "cell_type": "markdown",
   "metadata": {},
   "source": [
    "## Preview the dataset"
   ]
  },
  {
   "cell_type": "code",
   "execution_count": 3,
   "metadata": {},
   "outputs": [
    {
     "data": {
      "text/html": [
       "<div>\n",
       "<style scoped>\n",
       "    .dataframe tbody tr th:only-of-type {\n",
       "        vertical-align: middle;\n",
       "    }\n",
       "\n",
       "    .dataframe tbody tr th {\n",
       "        vertical-align: top;\n",
       "    }\n",
       "\n",
       "    .dataframe thead th {\n",
       "        text-align: right;\n",
       "    }\n",
       "</style>\n",
       "<table border=\"1\" class=\"dataframe\">\n",
       "  <thead>\n",
       "    <tr style=\"text-align: right;\">\n",
       "      <th></th>\n",
       "      <th>game_type</th>\n",
       "      <th>day_of_week</th>\n",
       "      <th>temperature</th>\n",
       "      <th>sky</th>\n",
       "      <th>total_runs</th>\n",
       "      <th>attendance</th>\n",
       "    </tr>\n",
       "  </thead>\n",
       "  <tbody>\n",
       "    <tr>\n",
       "      <th>0</th>\n",
       "      <td>Night Game</td>\n",
       "      <td>Sunday</td>\n",
       "      <td>74.0</td>\n",
       "      <td>Sunny</td>\n",
       "      <td>7</td>\n",
       "      <td>40030.0</td>\n",
       "    </tr>\n",
       "    <tr>\n",
       "      <th>1</th>\n",
       "      <td>Night Game</td>\n",
       "      <td>Wednesday</td>\n",
       "      <td>55.0</td>\n",
       "      <td>Overcast</td>\n",
       "      <td>5</td>\n",
       "      <td>21621.0</td>\n",
       "    </tr>\n",
       "    <tr>\n",
       "      <th>2</th>\n",
       "      <td>Night Game</td>\n",
       "      <td>Wednesday</td>\n",
       "      <td>48.0</td>\n",
       "      <td>Unknown</td>\n",
       "      <td>6</td>\n",
       "      <td>12622.0</td>\n",
       "    </tr>\n",
       "    <tr>\n",
       "      <th>3</th>\n",
       "      <td>Night Game</td>\n",
       "      <td>Wednesday</td>\n",
       "      <td>65.0</td>\n",
       "      <td>Cloudy</td>\n",
       "      <td>4</td>\n",
       "      <td>18531.0</td>\n",
       "    </tr>\n",
       "    <tr>\n",
       "      <th>4</th>\n",
       "      <td>Day Game</td>\n",
       "      <td>Wednesday</td>\n",
       "      <td>77.0</td>\n",
       "      <td>In Dome</td>\n",
       "      <td>7</td>\n",
       "      <td>18572.0</td>\n",
       "    </tr>\n",
       "  </tbody>\n",
       "</table>\n",
       "</div>"
      ],
      "text/plain": [
       "    game_type day_of_week  temperature       sky  total_runs  attendance\n",
       "0  Night Game      Sunday         74.0     Sunny           7     40030.0\n",
       "1  Night Game   Wednesday         55.0  Overcast           5     21621.0\n",
       "2  Night Game   Wednesday         48.0   Unknown           6     12622.0\n",
       "3  Night Game   Wednesday         65.0    Cloudy           4     18531.0\n",
       "4    Day Game   Wednesday         77.0   In Dome           7     18572.0"
      ]
     },
     "execution_count": 3,
     "metadata": {},
     "output_type": "execute_result"
    }
   ],
   "source": [
    "bb.head()"
   ]
  },
  {
   "cell_type": "code",
   "execution_count": 4,
   "metadata": {},
   "outputs": [
    {
     "name": "stdout",
     "output_type": "stream",
     "text": [
      "<class 'pandas.core.frame.DataFrame'>\n",
      "RangeIndex: 2463 entries, 0 to 2462\n",
      "Data columns (total 6 columns):\n",
      " #   Column       Non-Null Count  Dtype  \n",
      "---  ------       --------------  -----  \n",
      " 0   game_type    2463 non-null   object \n",
      " 1   day_of_week  2463 non-null   object \n",
      " 2   temperature  2463 non-null   float64\n",
      " 3   sky          2463 non-null   object \n",
      " 4   total_runs   2463 non-null   int64  \n",
      " 5   attendance   2460 non-null   float64\n",
      "dtypes: float64(2), int64(1), object(3)\n",
      "memory usage: 115.6+ KB\n"
     ]
    }
   ],
   "source": [
    "bb.info()"
   ]
  },
  {
   "cell_type": "code",
   "execution_count": 5,
   "metadata": {},
   "outputs": [
    {
     "data": {
      "text/html": [
       "<div>\n",
       "<style scoped>\n",
       "    .dataframe tbody tr th:only-of-type {\n",
       "        vertical-align: middle;\n",
       "    }\n",
       "\n",
       "    .dataframe tbody tr th {\n",
       "        vertical-align: top;\n",
       "    }\n",
       "\n",
       "    .dataframe thead th {\n",
       "        text-align: right;\n",
       "    }\n",
       "</style>\n",
       "<table border=\"1\" class=\"dataframe\">\n",
       "  <thead>\n",
       "    <tr style=\"text-align: right;\">\n",
       "      <th></th>\n",
       "      <th>temperature</th>\n",
       "      <th>total_runs</th>\n",
       "      <th>attendance</th>\n",
       "    </tr>\n",
       "  </thead>\n",
       "  <tbody>\n",
       "    <tr>\n",
       "      <th>count</th>\n",
       "      <td>2463.000000</td>\n",
       "      <td>2463.000000</td>\n",
       "      <td>2460.000000</td>\n",
       "    </tr>\n",
       "    <tr>\n",
       "      <th>mean</th>\n",
       "      <td>73.818920</td>\n",
       "      <td>8.933415</td>\n",
       "      <td>30370.703659</td>\n",
       "    </tr>\n",
       "    <tr>\n",
       "      <th>std</th>\n",
       "      <td>10.583106</td>\n",
       "      <td>4.480352</td>\n",
       "      <td>9875.466703</td>\n",
       "    </tr>\n",
       "    <tr>\n",
       "      <th>min</th>\n",
       "      <td>31.000000</td>\n",
       "      <td>1.000000</td>\n",
       "      <td>8766.000000</td>\n",
       "    </tr>\n",
       "    <tr>\n",
       "      <th>25%</th>\n",
       "      <td>67.000000</td>\n",
       "      <td>6.000000</td>\n",
       "      <td>22432.000000</td>\n",
       "    </tr>\n",
       "    <tr>\n",
       "      <th>50%</th>\n",
       "      <td>74.000000</td>\n",
       "      <td>8.000000</td>\n",
       "      <td>30604.500000</td>\n",
       "    </tr>\n",
       "    <tr>\n",
       "      <th>75%</th>\n",
       "      <td>81.000000</td>\n",
       "      <td>12.000000</td>\n",
       "      <td>38396.250000</td>\n",
       "    </tr>\n",
       "    <tr>\n",
       "      <th>max</th>\n",
       "      <td>101.000000</td>\n",
       "      <td>29.000000</td>\n",
       "      <td>54449.000000</td>\n",
       "    </tr>\n",
       "  </tbody>\n",
       "</table>\n",
       "</div>"
      ],
      "text/plain": [
       "       temperature   total_runs    attendance\n",
       "count  2463.000000  2463.000000   2460.000000\n",
       "mean     73.818920     8.933415  30370.703659\n",
       "std      10.583106     4.480352   9875.466703\n",
       "min      31.000000     1.000000   8766.000000\n",
       "25%      67.000000     6.000000  22432.000000\n",
       "50%      74.000000     8.000000  30604.500000\n",
       "75%      81.000000    12.000000  38396.250000\n",
       "max     101.000000    29.000000  54449.000000"
      ]
     },
     "execution_count": 5,
     "metadata": {},
     "output_type": "execute_result"
    }
   ],
   "source": [
    "bb.describe()"
   ]
  },
  {
   "cell_type": "markdown",
   "metadata": {},
   "source": [
    "## Remove Duplicates"
   ]
  },
  {
   "cell_type": "code",
   "execution_count": 6,
   "metadata": {},
   "outputs": [],
   "source": [
    "bb = bb.drop_duplicates()"
   ]
  },
  {
   "cell_type": "code",
   "execution_count": 7,
   "metadata": {},
   "outputs": [
    {
     "name": "stdout",
     "output_type": "stream",
     "text": [
      "<class 'pandas.core.frame.DataFrame'>\n",
      "Int64Index: 2463 entries, 0 to 2462\n",
      "Data columns (total 6 columns):\n",
      " #   Column       Non-Null Count  Dtype  \n",
      "---  ------       --------------  -----  \n",
      " 0   game_type    2463 non-null   object \n",
      " 1   day_of_week  2463 non-null   object \n",
      " 2   temperature  2463 non-null   float64\n",
      " 3   sky          2463 non-null   object \n",
      " 4   total_runs   2463 non-null   int64  \n",
      " 5   attendance   2460 non-null   float64\n",
      "dtypes: float64(2), int64(1), object(3)\n",
      "memory usage: 134.7+ KB\n"
     ]
    }
   ],
   "source": [
    "bb.info()\n",
    "\n",
    "# no records were dropped, so there are no duplicate records in the dataset"
   ]
  },
  {
   "cell_type": "markdown",
   "metadata": {},
   "source": [
    "## Data types"
   ]
  },
  {
   "cell_type": "markdown",
   "metadata": {},
   "source": [
    "- **Categorical**\n",
    "    - Ordinal categorical variables: categories mantain an order\n",
    "         - dtype = string *or* int\n",
    "    - Nominal categorical variables: categories with no order\n",
    "         - dtype = string\n",
    "    - Binary categorical variables: nominal variables with two categories\n",
    "         - dtype = bool *or* int *or* str\n",
    "- **Quantitative**\n",
    "    - Discrete: numbered values that can only take certain values\n",
    "         - dtype = int\n",
    "    - Continuous: numbered values that are measured, and can be any number within a particular range\n",
    "         - dtype = float"
   ]
  },
  {
   "cell_type": "code",
   "execution_count": 8,
   "metadata": {},
   "outputs": [
    {
     "data": {
      "text/plain": [
       "game_type       object\n",
       "day_of_week     object\n",
       "temperature    float64\n",
       "sky             object\n",
       "total_runs       int64\n",
       "attendance     float64\n",
       "dtype: object"
      ]
     },
     "execution_count": 8,
     "metadata": {},
     "output_type": "execute_result"
    }
   ],
   "source": [
    "bb.dtypes"
   ]
  },
  {
   "cell_type": "markdown",
   "metadata": {},
   "source": [
    "If variables that are expected to be floats or ints are objects, this indicates that there is at least one character in the columns which are preventing the variable from being read as a numeric data type. This could be either an input mistake (such as the letter “o” in place of a “0”), or it can be an indication of how missing data were handled."
   ]
  },
  {
   "cell_type": "code",
   "execution_count": 9,
   "metadata": {},
   "outputs": [],
   "source": [
    "# sample code to change data type\n",
    "bb['game_type'] = bb['game_type'].astype('object')"
   ]
  },
  {
   "cell_type": "markdown",
   "metadata": {},
   "source": [
    "## Missing data"
   ]
  },
  {
   "cell_type": "markdown",
   "metadata": {},
   "source": [
    "Depending on the analysis being performed, observations with missing values will either:\n",
    "- remain as-is\n",
    "- be removed\n",
    "- be replaced with an imputed value\n",
    "- be replaced with missing data type that Python can recognize, such as NaN.\n",
    "\n",
    "Inspect variables to ensure that zero values are supposed to be zeros. It's possible that some zero values are supposed to be NaN, and could skew the analysis if they remain as zeros."
   ]
  },
  {
   "cell_type": "code",
   "execution_count": 10,
   "metadata": {},
   "outputs": [
    {
     "data": {
      "text/plain": [
       "array([ 74.,  55.,  48.,  65.,  77.,  81.,  72.,  70.,  40.,  36.,  64.,\n",
       "        57.,  66.,  63.,  42.,  73.,  56.,  75.,  45.,  68.,  69.,  80.,\n",
       "        67.,  78.,  58.,  82.,  59.,  50.,  61.,  76.,  51.,  71.,  44.,\n",
       "        49.,  84.,  60.,  53.,  62.,  54.,  83.,  85.,  79.,  87.,  89.,\n",
       "        90.,  93.,  95.,  97.,  88.,  86.,  91.,  94.,  92.,  43.,  96.,\n",
       "        99.,  98., 100.,  52., 101.,  47.,  41.,  31.,  38.,  32.,  39.,\n",
       "        34.])"
      ]
     },
     "execution_count": 10,
     "metadata": {},
     "output_type": "execute_result"
    }
   ],
   "source": [
    "# can inspect quantitative variables to see if there are any unusual values using .unique()\n",
    "bb['temperature'].unique()"
   ]
  },
  {
   "cell_type": "code",
   "execution_count": 11,
   "metadata": {},
   "outputs": [],
   "source": [
    "# sample code to replace non number values\n",
    "non_numbers = ['N','-','X']\n",
    "\n",
    "for x in non_numbers:\n",
    "    bb = bb.replace(x,'NaN')"
   ]
  },
  {
   "cell_type": "markdown",
   "metadata": {},
   "source": [
    "## Categorizing and binning data"
   ]
  },
  {
   "cell_type": "markdown",
   "metadata": {},
   "source": [
    "### Categorical encoding"
   ]
  },
  {
   "cell_type": "markdown",
   "metadata": {},
   "source": [
    "Categorical features with many levels are “expensive” to include in a regression model (we need to calculate a separate slope for each level). We may want to consider:\n",
    "- deleting the records of data with only a few observation\n",
    "- combining categories with few observations into larger categories of related variables\n",
    "\n",
    "Categorical variables can be inspected using **.value_counts()**"
   ]
  },
  {
   "cell_type": "code",
   "execution_count": 12,
   "metadata": {},
   "outputs": [
    {
     "data": {
      "text/plain": [
       "Night Game    1664\n",
       "Day Game       799\n",
       "Name: game_type, dtype: int64"
      ]
     },
     "execution_count": 12,
     "metadata": {},
     "output_type": "execute_result"
    }
   ],
   "source": [
    "bb['game_type'].value_counts(dropna=False)"
   ]
  },
  {
   "cell_type": "markdown",
   "metadata": {},
   "source": [
    "Some variables could be coded differently depending on the trends in the data and the goals for the analysis.\n",
    "\n",
    "For example - the day_of_week variable could be coded as:\n",
    "- if attendance increases approximately linearly throughout the week, day_of_week could be ordinal.\n",
    "- if attendance goes up and down throughout the week, day_of_week could be nominal.\n",
    "- if games on Friday-Sunday have higher attendance than other days of the week, day_of_week could be coded to only have two levels: weekend and weekday. \n",
    "\n",
    "The distribution of values within a categories can be inspected using boxplots."
   ]
  },
  {
   "cell_type": "code",
   "execution_count": 13,
   "metadata": {
    "scrolled": true
   },
   "outputs": [
    {
     "data": {
      "text/plain": [
       "Text(0.5, 1.0, 'Attendance by Day of Week')"
      ]
     },
     "execution_count": 13,
     "metadata": {},
     "output_type": "execute_result"
    },
    {
     "data": {
      "image/png": "[encoded data removed]",
      "text/plain": [
       "<Figure size 576x360 with 1 Axes>"
      ]
     },
     "metadata": {
      "needs_background": "light"
     },
     "output_type": "display_data"
    }
   ],
   "source": [
    "plt.figure(figsize=(8,5))\n",
    "sns.boxplot(x='day_of_week',y='attendance',data=bb, palette='rainbow')\n",
    "plt.title(\"Attendance by Day of Week\")"
   ]
  },
  {
   "cell_type": "markdown",
   "metadata": {},
   "source": [
    "#### Encoding nominal categorical variables\n",
    "\n",
    "The pandas **.Categorical()** method can be used to store data as type category and indicate the order of the categories."
   ]
  },
  {
   "cell_type": "code",
   "execution_count": 14,
   "metadata": {},
   "outputs": [
    {
     "data": {
      "text/plain": [
       "[Sunday, Wednesday, Tuesday, Monday, Thursday, Saturday, Friday]\n",
       "Categories (7, object): [Monday < Tuesday < Wednesday < Thursday < Friday < Saturday < Sunday]"
      ]
     },
     "execution_count": 14,
     "metadata": {},
     "output_type": "execute_result"
    }
   ],
   "source": [
    "# order ordinal categorical variables using pd.Categorical\n",
    "bb['day_of_week'] = pd.Categorical(bb['day_of_week'], ['Monday', \n",
    "                                                       'Tuesday', \n",
    "                                                       'Wednesday', \n",
    "                                                       'Thursday',\n",
    "                                                       'Friday',\n",
    "                                                       'Saturday',\n",
    "                                                       'Sunday'], ordered=True)\n",
    "\n",
    "bb['day_of_week'].unique()"
   ]
  },
  {
   "cell_type": "markdown",
   "metadata": {},
   "source": [
    "#### Label encoding\n",
    "Label encoding is when each category in a variable is converted to an integer. This enables us to perform numerical operations on the column and widen our range of plotting capabilities."
   ]
  },
  {
   "cell_type": "code",
   "execution_count": 15,
   "metadata": {},
   "outputs": [
    {
     "data": {
      "text/html": [
       "<div>\n",
       "<style scoped>\n",
       "    .dataframe tbody tr th:only-of-type {\n",
       "        vertical-align: middle;\n",
       "    }\n",
       "\n",
       "    .dataframe tbody tr th {\n",
       "        vertical-align: top;\n",
       "    }\n",
       "\n",
       "    .dataframe thead th {\n",
       "        text-align: right;\n",
       "    }\n",
       "</style>\n",
       "<table border=\"1\" class=\"dataframe\">\n",
       "  <thead>\n",
       "    <tr style=\"text-align: right;\">\n",
       "      <th></th>\n",
       "      <th>game_type</th>\n",
       "      <th>day_of_week</th>\n",
       "      <th>temperature</th>\n",
       "      <th>sky</th>\n",
       "      <th>total_runs</th>\n",
       "      <th>attendance</th>\n",
       "      <th>day_of_week_codes</th>\n",
       "    </tr>\n",
       "  </thead>\n",
       "  <tbody>\n",
       "    <tr>\n",
       "      <th>0</th>\n",
       "      <td>Night Game</td>\n",
       "      <td>Sunday</td>\n",
       "      <td>74.0</td>\n",
       "      <td>Sunny</td>\n",
       "      <td>7</td>\n",
       "      <td>40030.0</td>\n",
       "      <td>6</td>\n",
       "    </tr>\n",
       "    <tr>\n",
       "      <th>1</th>\n",
       "      <td>Night Game</td>\n",
       "      <td>Wednesday</td>\n",
       "      <td>55.0</td>\n",
       "      <td>Overcast</td>\n",
       "      <td>5</td>\n",
       "      <td>21621.0</td>\n",
       "      <td>2</td>\n",
       "    </tr>\n",
       "    <tr>\n",
       "      <th>2</th>\n",
       "      <td>Night Game</td>\n",
       "      <td>Wednesday</td>\n",
       "      <td>48.0</td>\n",
       "      <td>Unknown</td>\n",
       "      <td>6</td>\n",
       "      <td>12622.0</td>\n",
       "      <td>2</td>\n",
       "    </tr>\n",
       "    <tr>\n",
       "      <th>3</th>\n",
       "      <td>Night Game</td>\n",
       "      <td>Wednesday</td>\n",
       "      <td>65.0</td>\n",
       "      <td>Cloudy</td>\n",
       "      <td>4</td>\n",
       "      <td>18531.0</td>\n",
       "      <td>2</td>\n",
       "    </tr>\n",
       "    <tr>\n",
       "      <th>4</th>\n",
       "      <td>Day Game</td>\n",
       "      <td>Wednesday</td>\n",
       "      <td>77.0</td>\n",
       "      <td>In Dome</td>\n",
       "      <td>7</td>\n",
       "      <td>18572.0</td>\n",
       "      <td>2</td>\n",
       "    </tr>\n",
       "  </tbody>\n",
       "</table>\n",
       "</div>"
      ],
      "text/plain": [
       "    game_type day_of_week  temperature       sky  total_runs  attendance  \\\n",
       "0  Night Game      Sunday         74.0     Sunny           7     40030.0   \n",
       "1  Night Game   Wednesday         55.0  Overcast           5     21621.0   \n",
       "2  Night Game   Wednesday         48.0   Unknown           6     12622.0   \n",
       "3  Night Game   Wednesday         65.0    Cloudy           4     18531.0   \n",
       "4    Day Game   Wednesday         77.0   In Dome           7     18572.0   \n",
       "\n",
       "   day_of_week_codes  \n",
       "0                  6  \n",
       "1                  2  \n",
       "2                  2  \n",
       "3                  2  \n",
       "4                  2  "
      ]
     },
     "execution_count": 15,
     "metadata": {},
     "output_type": "execute_result"
    }
   ],
   "source": [
    "bb['day_of_week_codes'] = bb['day_of_week'].cat.codes\n",
    "\n",
    "bb.head()"
   ]
  },
  {
   "cell_type": "markdown",
   "metadata": {},
   "source": [
    "#### One-hot encoding\n",
    "One-hot encoding creates a new binary variable for each of the categories within our original variable. This technique is useful when managing nominal variables because it encodes the variable without creating an order among the categories.\n",
    "- Use cases:\n",
    "    - Nominal categorical variable where it doesn’t make sense to assign numbers to our categories, as this could create an order among the species that is not present (i.e dog breeds, eye color, country).\n",
    "    - We don't want to assume equal spacing between categories in an ordinal categorical variable."
   ]
  },
  {
   "cell_type": "code",
   "execution_count": 16,
   "metadata": {},
   "outputs": [
    {
     "data": {
      "text/html": [
       "<div>\n",
       "<style scoped>\n",
       "    .dataframe tbody tr th:only-of-type {\n",
       "        vertical-align: middle;\n",
       "    }\n",
       "\n",
       "    .dataframe tbody tr th {\n",
       "        vertical-align: top;\n",
       "    }\n",
       "\n",
       "    .dataframe thead th {\n",
       "        text-align: right;\n",
       "    }\n",
       "</style>\n",
       "<table border=\"1\" class=\"dataframe\">\n",
       "  <thead>\n",
       "    <tr style=\"text-align: right;\">\n",
       "      <th></th>\n",
       "      <th>game_type</th>\n",
       "      <th>day_of_week</th>\n",
       "      <th>temperature</th>\n",
       "      <th>total_runs</th>\n",
       "      <th>attendance</th>\n",
       "      <th>day_of_week_codes</th>\n",
       "      <th>sky_Cloudy</th>\n",
       "      <th>sky_Drizzle</th>\n",
       "      <th>sky_In Dome</th>\n",
       "      <th>sky_Night</th>\n",
       "      <th>sky_Overcast</th>\n",
       "      <th>sky_Rain</th>\n",
       "      <th>sky_Sunny</th>\n",
       "      <th>sky_Unknown</th>\n",
       "    </tr>\n",
       "  </thead>\n",
       "  <tbody>\n",
       "    <tr>\n",
       "      <th>0</th>\n",
       "      <td>Night Game</td>\n",
       "      <td>Sunday</td>\n",
       "      <td>74.0</td>\n",
       "      <td>7</td>\n",
       "      <td>40030.0</td>\n",
       "      <td>6</td>\n",
       "      <td>0</td>\n",
       "      <td>0</td>\n",
       "      <td>0</td>\n",
       "      <td>0</td>\n",
       "      <td>0</td>\n",
       "      <td>0</td>\n",
       "      <td>1</td>\n",
       "      <td>0</td>\n",
       "    </tr>\n",
       "    <tr>\n",
       "      <th>1</th>\n",
       "      <td>Night Game</td>\n",
       "      <td>Wednesday</td>\n",
       "      <td>55.0</td>\n",
       "      <td>5</td>\n",
       "      <td>21621.0</td>\n",
       "      <td>2</td>\n",
       "      <td>0</td>\n",
       "      <td>0</td>\n",
       "      <td>0</td>\n",
       "      <td>0</td>\n",
       "      <td>1</td>\n",
       "      <td>0</td>\n",
       "      <td>0</td>\n",
       "      <td>0</td>\n",
       "    </tr>\n",
       "    <tr>\n",
       "      <th>2</th>\n",
       "      <td>Night Game</td>\n",
       "      <td>Wednesday</td>\n",
       "      <td>48.0</td>\n",
       "      <td>6</td>\n",
       "      <td>12622.0</td>\n",
       "      <td>2</td>\n",
       "      <td>0</td>\n",
       "      <td>0</td>\n",
       "      <td>0</td>\n",
       "      <td>0</td>\n",
       "      <td>0</td>\n",
       "      <td>0</td>\n",
       "      <td>0</td>\n",
       "      <td>1</td>\n",
       "    </tr>\n",
       "    <tr>\n",
       "      <th>3</th>\n",
       "      <td>Night Game</td>\n",
       "      <td>Wednesday</td>\n",
       "      <td>65.0</td>\n",
       "      <td>4</td>\n",
       "      <td>18531.0</td>\n",
       "      <td>2</td>\n",
       "      <td>1</td>\n",
       "      <td>0</td>\n",
       "      <td>0</td>\n",
       "      <td>0</td>\n",
       "      <td>0</td>\n",
       "      <td>0</td>\n",
       "      <td>0</td>\n",
       "      <td>0</td>\n",
       "    </tr>\n",
       "    <tr>\n",
       "      <th>4</th>\n",
       "      <td>Day Game</td>\n",
       "      <td>Wednesday</td>\n",
       "      <td>77.0</td>\n",
       "      <td>7</td>\n",
       "      <td>18572.0</td>\n",
       "      <td>2</td>\n",
       "      <td>0</td>\n",
       "      <td>0</td>\n",
       "      <td>1</td>\n",
       "      <td>0</td>\n",
       "      <td>0</td>\n",
       "      <td>0</td>\n",
       "      <td>0</td>\n",
       "      <td>0</td>\n",
       "    </tr>\n",
       "  </tbody>\n",
       "</table>\n",
       "</div>"
      ],
      "text/plain": [
       "    game_type day_of_week  temperature  total_runs  attendance  \\\n",
       "0  Night Game      Sunday         74.0           7     40030.0   \n",
       "1  Night Game   Wednesday         55.0           5     21621.0   \n",
       "2  Night Game   Wednesday         48.0           6     12622.0   \n",
       "3  Night Game   Wednesday         65.0           4     18531.0   \n",
       "4    Day Game   Wednesday         77.0           7     18572.0   \n",
       "\n",
       "   day_of_week_codes  sky_Cloudy  sky_Drizzle  sky_In Dome  sky_Night  \\\n",
       "0                  6           0            0            0          0   \n",
       "1                  2           0            0            0          0   \n",
       "2                  2           0            0            0          0   \n",
       "3                  2           1            0            0          0   \n",
       "4                  2           0            0            1          0   \n",
       "\n",
       "   sky_Overcast  sky_Rain  sky_Sunny  sky_Unknown  \n",
       "0             0         0          1            0  \n",
       "1             1         0          0            0  \n",
       "2             0         0          0            1  \n",
       "3             0         0          0            0  \n",
       "4             0         0          0            0  "
      ]
     },
     "execution_count": 16,
     "metadata": {},
     "output_type": "execute_result"
    }
   ],
   "source": [
    "bb_sky_dummies = pd.get_dummies(data=bb, columns=['sky'])\n",
    "\n",
    "bb_sky_dummies.head()"
   ]
  },
  {
   "cell_type": "code",
   "execution_count": 17,
   "metadata": {},
   "outputs": [
    {
     "data": {
      "text/plain": [
       "Cloudy      761\n",
       "Sunny       745\n",
       "Unknown     402\n",
       "In Dome     356\n",
       "Overcast    159\n",
       "Drizzle      16\n",
       "Night        12\n",
       "Rain         12\n",
       "Name: sky, dtype: int64"
      ]
     },
     "execution_count": 17,
     "metadata": {},
     "output_type": "execute_result"
    }
   ],
   "source": [
    "bb['sky'].value_counts(dropna=False)"
   ]
  },
  {
   "cell_type": "markdown",
   "metadata": {},
   "source": [
    "#### Combining Categories\n",
    "Categories that are similar can be combined to show a larger, more general category. For example, the 'Drizzle' and 'Rain' in the 'Sky' column could be combined and shown as 'Precipitation'. <br> <br>\n",
    "Categories with few observations can be combined and shown as 'other'. This is especially useful for creating more streamlined visualizations."
   ]
  },
  {
   "cell_type": "code",
   "execution_count": 34,
   "metadata": {},
   "outputs": [
    {
     "data": {
      "text/html": [
       "<div>\n",
       "<style scoped>\n",
       "    .dataframe tbody tr th:only-of-type {\n",
       "        vertical-align: middle;\n",
       "    }\n",
       "\n",
       "    .dataframe tbody tr th {\n",
       "        vertical-align: top;\n",
       "    }\n",
       "\n",
       "    .dataframe thead th {\n",
       "        text-align: right;\n",
       "    }\n",
       "</style>\n",
       "<table border=\"1\" class=\"dataframe\">\n",
       "  <thead>\n",
       "    <tr style=\"text-align: right;\">\n",
       "      <th></th>\n",
       "      <th>game_type</th>\n",
       "      <th>day_of_week</th>\n",
       "      <th>temperature</th>\n",
       "      <th>sky</th>\n",
       "      <th>total_runs</th>\n",
       "      <th>attendance</th>\n",
       "      <th>day_of_week_codes</th>\n",
       "      <th>sky_combined</th>\n",
       "      <th>sky_combined_pct</th>\n",
       "    </tr>\n",
       "  </thead>\n",
       "  <tbody>\n",
       "    <tr>\n",
       "      <th>58</th>\n",
       "      <td>Day Game</td>\n",
       "      <td>Sunday</td>\n",
       "      <td>50.0</td>\n",
       "      <td>Drizzle</td>\n",
       "      <td>7</td>\n",
       "      <td>39077.0</td>\n",
       "      <td>6</td>\n",
       "      <td>Other</td>\n",
       "      <td>Other</td>\n",
       "    </tr>\n",
       "    <tr>\n",
       "      <th>63</th>\n",
       "      <td>Night Game</td>\n",
       "      <td>Sunday</td>\n",
       "      <td>49.0</td>\n",
       "      <td>Drizzle</td>\n",
       "      <td>15</td>\n",
       "      <td>34279.0</td>\n",
       "      <td>6</td>\n",
       "      <td>Other</td>\n",
       "      <td>Other</td>\n",
       "    </tr>\n",
       "    <tr>\n",
       "      <th>81</th>\n",
       "      <td>Night Game</td>\n",
       "      <td>Friday</td>\n",
       "      <td>62.0</td>\n",
       "      <td>Drizzle</td>\n",
       "      <td>8</td>\n",
       "      <td>34264.0</td>\n",
       "      <td>4</td>\n",
       "      <td>Other</td>\n",
       "      <td>Other</td>\n",
       "    </tr>\n",
       "    <tr>\n",
       "      <th>340</th>\n",
       "      <td>Night Game</td>\n",
       "      <td>Friday</td>\n",
       "      <td>56.0</td>\n",
       "      <td>Drizzle</td>\n",
       "      <td>9</td>\n",
       "      <td>33955.0</td>\n",
       "      <td>4</td>\n",
       "      <td>Other</td>\n",
       "      <td>Other</td>\n",
       "    </tr>\n",
       "    <tr>\n",
       "      <th>410</th>\n",
       "      <td>Night Game</td>\n",
       "      <td>Saturday</td>\n",
       "      <td>56.0</td>\n",
       "      <td>Drizzle</td>\n",
       "      <td>7</td>\n",
       "      <td>37396.0</td>\n",
       "      <td>5</td>\n",
       "      <td>Other</td>\n",
       "      <td>Other</td>\n",
       "    </tr>\n",
       "    <tr>\n",
       "      <th>414</th>\n",
       "      <td>Night Game</td>\n",
       "      <td>Friday</td>\n",
       "      <td>66.0</td>\n",
       "      <td>Drizzle</td>\n",
       "      <td>11</td>\n",
       "      <td>30857.0</td>\n",
       "      <td>4</td>\n",
       "      <td>Other</td>\n",
       "      <td>Other</td>\n",
       "    </tr>\n",
       "    <tr>\n",
       "      <th>439</th>\n",
       "      <td>Night Game</td>\n",
       "      <td>Wednesday</td>\n",
       "      <td>60.0</td>\n",
       "      <td>Drizzle</td>\n",
       "      <td>9</td>\n",
       "      <td>26934.0</td>\n",
       "      <td>2</td>\n",
       "      <td>Other</td>\n",
       "      <td>Other</td>\n",
       "    </tr>\n",
       "    <tr>\n",
       "      <th>527</th>\n",
       "      <td>Night Game</td>\n",
       "      <td>Tuesday</td>\n",
       "      <td>64.0</td>\n",
       "      <td>Drizzle</td>\n",
       "      <td>7</td>\n",
       "      <td>34319.0</td>\n",
       "      <td>1</td>\n",
       "      <td>Other</td>\n",
       "      <td>Other</td>\n",
       "    </tr>\n",
       "    <tr>\n",
       "      <th>925</th>\n",
       "      <td>Night Game</td>\n",
       "      <td>Thursday</td>\n",
       "      <td>74.0</td>\n",
       "      <td>Drizzle</td>\n",
       "      <td>10</td>\n",
       "      <td>24099.0</td>\n",
       "      <td>3</td>\n",
       "      <td>Other</td>\n",
       "      <td>Other</td>\n",
       "    </tr>\n",
       "    <tr>\n",
       "      <th>1403</th>\n",
       "      <td>Day Game</td>\n",
       "      <td>Monday</td>\n",
       "      <td>76.0</td>\n",
       "      <td>Drizzle</td>\n",
       "      <td>6</td>\n",
       "      <td>41850.0</td>\n",
       "      <td>0</td>\n",
       "      <td>Other</td>\n",
       "      <td>Other</td>\n",
       "    </tr>\n",
       "    <tr>\n",
       "      <th>1488</th>\n",
       "      <td>Night Game</td>\n",
       "      <td>Monday</td>\n",
       "      <td>82.0</td>\n",
       "      <td>Drizzle</td>\n",
       "      <td>15</td>\n",
       "      <td>33109.0</td>\n",
       "      <td>0</td>\n",
       "      <td>Other</td>\n",
       "      <td>Other</td>\n",
       "    </tr>\n",
       "    <tr>\n",
       "      <th>1774</th>\n",
       "      <td>Night Game</td>\n",
       "      <td>Friday</td>\n",
       "      <td>74.0</td>\n",
       "      <td>Drizzle</td>\n",
       "      <td>6</td>\n",
       "      <td>43560.0</td>\n",
       "      <td>4</td>\n",
       "      <td>Other</td>\n",
       "      <td>Other</td>\n",
       "    </tr>\n",
       "    <tr>\n",
       "      <th>2073</th>\n",
       "      <td>Night Game</td>\n",
       "      <td>Monday</td>\n",
       "      <td>61.0</td>\n",
       "      <td>Drizzle</td>\n",
       "      <td>5</td>\n",
       "      <td>12103.0</td>\n",
       "      <td>0</td>\n",
       "      <td>Other</td>\n",
       "      <td>Other</td>\n",
       "    </tr>\n",
       "    <tr>\n",
       "      <th>2098</th>\n",
       "      <td>Night Game</td>\n",
       "      <td>Friday</td>\n",
       "      <td>50.0</td>\n",
       "      <td>Drizzle</td>\n",
       "      <td>5</td>\n",
       "      <td>45756.0</td>\n",
       "      <td>4</td>\n",
       "      <td>Other</td>\n",
       "      <td>Other</td>\n",
       "    </tr>\n",
       "    <tr>\n",
       "      <th>2139</th>\n",
       "      <td>Night Game</td>\n",
       "      <td>Tuesday</td>\n",
       "      <td>53.0</td>\n",
       "      <td>Drizzle</td>\n",
       "      <td>3</td>\n",
       "      <td>27356.0</td>\n",
       "      <td>1</td>\n",
       "      <td>Other</td>\n",
       "      <td>Other</td>\n",
       "    </tr>\n",
       "    <tr>\n",
       "      <th>2190</th>\n",
       "      <td>Day Game</td>\n",
       "      <td>Thursday</td>\n",
       "      <td>55.0</td>\n",
       "      <td>Drizzle</td>\n",
       "      <td>3</td>\n",
       "      <td>22112.0</td>\n",
       "      <td>3</td>\n",
       "      <td>Other</td>\n",
       "      <td>Other</td>\n",
       "    </tr>\n",
       "  </tbody>\n",
       "</table>\n",
       "</div>"
      ],
      "text/plain": [
       "       game_type day_of_week  temperature      sky  total_runs  attendance  \\\n",
       "58      Day Game      Sunday         50.0  Drizzle           7     39077.0   \n",
       "63    Night Game      Sunday         49.0  Drizzle          15     34279.0   \n",
       "81    Night Game      Friday         62.0  Drizzle           8     34264.0   \n",
       "340   Night Game      Friday         56.0  Drizzle           9     33955.0   \n",
       "410   Night Game    Saturday         56.0  Drizzle           7     37396.0   \n",
       "414   Night Game      Friday         66.0  Drizzle          11     30857.0   \n",
       "439   Night Game   Wednesday         60.0  Drizzle           9     26934.0   \n",
       "527   Night Game     Tuesday         64.0  Drizzle           7     34319.0   \n",
       "925   Night Game    Thursday         74.0  Drizzle          10     24099.0   \n",
       "1403    Day Game      Monday         76.0  Drizzle           6     41850.0   \n",
       "1488  Night Game      Monday         82.0  Drizzle          15     33109.0   \n",
       "1774  Night Game      Friday         74.0  Drizzle           6     43560.0   \n",
       "2073  Night Game      Monday         61.0  Drizzle           5     12103.0   \n",
       "2098  Night Game      Friday         50.0  Drizzle           5     45756.0   \n",
       "2139  Night Game     Tuesday         53.0  Drizzle           3     27356.0   \n",
       "2190    Day Game    Thursday         55.0  Drizzle           3     22112.0   \n",
       "\n",
       "      day_of_week_codes sky_combined sky_combined_pct  \n",
       "58                    6        Other            Other  \n",
       "63                    6        Other            Other  \n",
       "81                    4        Other            Other  \n",
       "340                   4        Other            Other  \n",
       "410                   5        Other            Other  \n",
       "414                   4        Other            Other  \n",
       "439                   2        Other            Other  \n",
       "527                   1        Other            Other  \n",
       "925                   3        Other            Other  \n",
       "1403                  0        Other            Other  \n",
       "1488                  0        Other            Other  \n",
       "1774                  4        Other            Other  \n",
       "2073                  0        Other            Other  \n",
       "2098                  4        Other            Other  \n",
       "2139                  1        Other            Other  \n",
       "2190                  3        Other            Other  "
      ]
     },
     "execution_count": 34,
     "metadata": {},
     "output_type": "execute_result"
    }
   ],
   "source": [
    "# combine categories based on a threshold value\n",
    "# function adapted from https://milos.ai/2019/01/merging-categories-with-small-frequencies\n",
    "counts = bb['sky'].value_counts(dropna=False)\n",
    "threshold_value = 50\n",
    "bb = bb.assign(sky_combined = np.where(bb['sky'].isin(counts[counts < threshold_value].index),'Other', bb['sky']))\n",
    "\n",
    "bb[bb['sky'] == 'Drizzle']"
   ]
  },
  {
   "cell_type": "code",
   "execution_count": 33,
   "metadata": {},
   "outputs": [
    {
     "data": {
      "text/html": [
       "<div>\n",
       "<style scoped>\n",
       "    .dataframe tbody tr th:only-of-type {\n",
       "        vertical-align: middle;\n",
       "    }\n",
       "\n",
       "    .dataframe tbody tr th {\n",
       "        vertical-align: top;\n",
       "    }\n",
       "\n",
       "    .dataframe thead th {\n",
       "        text-align: right;\n",
       "    }\n",
       "</style>\n",
       "<table border=\"1\" class=\"dataframe\">\n",
       "  <thead>\n",
       "    <tr style=\"text-align: right;\">\n",
       "      <th></th>\n",
       "      <th>game_type</th>\n",
       "      <th>day_of_week</th>\n",
       "      <th>temperature</th>\n",
       "      <th>sky</th>\n",
       "      <th>total_runs</th>\n",
       "      <th>attendance</th>\n",
       "      <th>day_of_week_codes</th>\n",
       "      <th>sky_combined</th>\n",
       "      <th>sky_combined_pct</th>\n",
       "    </tr>\n",
       "  </thead>\n",
       "  <tbody>\n",
       "    <tr>\n",
       "      <th>58</th>\n",
       "      <td>Day Game</td>\n",
       "      <td>Sunday</td>\n",
       "      <td>50.0</td>\n",
       "      <td>Drizzle</td>\n",
       "      <td>7</td>\n",
       "      <td>39077.0</td>\n",
       "      <td>6</td>\n",
       "      <td>Other</td>\n",
       "      <td>Other</td>\n",
       "    </tr>\n",
       "    <tr>\n",
       "      <th>63</th>\n",
       "      <td>Night Game</td>\n",
       "      <td>Sunday</td>\n",
       "      <td>49.0</td>\n",
       "      <td>Drizzle</td>\n",
       "      <td>15</td>\n",
       "      <td>34279.0</td>\n",
       "      <td>6</td>\n",
       "      <td>Other</td>\n",
       "      <td>Other</td>\n",
       "    </tr>\n",
       "    <tr>\n",
       "      <th>81</th>\n",
       "      <td>Night Game</td>\n",
       "      <td>Friday</td>\n",
       "      <td>62.0</td>\n",
       "      <td>Drizzle</td>\n",
       "      <td>8</td>\n",
       "      <td>34264.0</td>\n",
       "      <td>4</td>\n",
       "      <td>Other</td>\n",
       "      <td>Other</td>\n",
       "    </tr>\n",
       "    <tr>\n",
       "      <th>340</th>\n",
       "      <td>Night Game</td>\n",
       "      <td>Friday</td>\n",
       "      <td>56.0</td>\n",
       "      <td>Drizzle</td>\n",
       "      <td>9</td>\n",
       "      <td>33955.0</td>\n",
       "      <td>4</td>\n",
       "      <td>Other</td>\n",
       "      <td>Other</td>\n",
       "    </tr>\n",
       "    <tr>\n",
       "      <th>410</th>\n",
       "      <td>Night Game</td>\n",
       "      <td>Saturday</td>\n",
       "      <td>56.0</td>\n",
       "      <td>Drizzle</td>\n",
       "      <td>7</td>\n",
       "      <td>37396.0</td>\n",
       "      <td>5</td>\n",
       "      <td>Other</td>\n",
       "      <td>Other</td>\n",
       "    </tr>\n",
       "    <tr>\n",
       "      <th>414</th>\n",
       "      <td>Night Game</td>\n",
       "      <td>Friday</td>\n",
       "      <td>66.0</td>\n",
       "      <td>Drizzle</td>\n",
       "      <td>11</td>\n",
       "      <td>30857.0</td>\n",
       "      <td>4</td>\n",
       "      <td>Other</td>\n",
       "      <td>Other</td>\n",
       "    </tr>\n",
       "    <tr>\n",
       "      <th>439</th>\n",
       "      <td>Night Game</td>\n",
       "      <td>Wednesday</td>\n",
       "      <td>60.0</td>\n",
       "      <td>Drizzle</td>\n",
       "      <td>9</td>\n",
       "      <td>26934.0</td>\n",
       "      <td>2</td>\n",
       "      <td>Other</td>\n",
       "      <td>Other</td>\n",
       "    </tr>\n",
       "    <tr>\n",
       "      <th>527</th>\n",
       "      <td>Night Game</td>\n",
       "      <td>Tuesday</td>\n",
       "      <td>64.0</td>\n",
       "      <td>Drizzle</td>\n",
       "      <td>7</td>\n",
       "      <td>34319.0</td>\n",
       "      <td>1</td>\n",
       "      <td>Other</td>\n",
       "      <td>Other</td>\n",
       "    </tr>\n",
       "    <tr>\n",
       "      <th>925</th>\n",
       "      <td>Night Game</td>\n",
       "      <td>Thursday</td>\n",
       "      <td>74.0</td>\n",
       "      <td>Drizzle</td>\n",
       "      <td>10</td>\n",
       "      <td>24099.0</td>\n",
       "      <td>3</td>\n",
       "      <td>Other</td>\n",
       "      <td>Other</td>\n",
       "    </tr>\n",
       "    <tr>\n",
       "      <th>1403</th>\n",
       "      <td>Day Game</td>\n",
       "      <td>Monday</td>\n",
       "      <td>76.0</td>\n",
       "      <td>Drizzle</td>\n",
       "      <td>6</td>\n",
       "      <td>41850.0</td>\n",
       "      <td>0</td>\n",
       "      <td>Other</td>\n",
       "      <td>Other</td>\n",
       "    </tr>\n",
       "    <tr>\n",
       "      <th>1488</th>\n",
       "      <td>Night Game</td>\n",
       "      <td>Monday</td>\n",
       "      <td>82.0</td>\n",
       "      <td>Drizzle</td>\n",
       "      <td>15</td>\n",
       "      <td>33109.0</td>\n",
       "      <td>0</td>\n",
       "      <td>Other</td>\n",
       "      <td>Other</td>\n",
       "    </tr>\n",
       "    <tr>\n",
       "      <th>1774</th>\n",
       "      <td>Night Game</td>\n",
       "      <td>Friday</td>\n",
       "      <td>74.0</td>\n",
       "      <td>Drizzle</td>\n",
       "      <td>6</td>\n",
       "      <td>43560.0</td>\n",
       "      <td>4</td>\n",
       "      <td>Other</td>\n",
       "      <td>Other</td>\n",
       "    </tr>\n",
       "    <tr>\n",
       "      <th>2073</th>\n",
       "      <td>Night Game</td>\n",
       "      <td>Monday</td>\n",
       "      <td>61.0</td>\n",
       "      <td>Drizzle</td>\n",
       "      <td>5</td>\n",
       "      <td>12103.0</td>\n",
       "      <td>0</td>\n",
       "      <td>Other</td>\n",
       "      <td>Other</td>\n",
       "    </tr>\n",
       "    <tr>\n",
       "      <th>2098</th>\n",
       "      <td>Night Game</td>\n",
       "      <td>Friday</td>\n",
       "      <td>50.0</td>\n",
       "      <td>Drizzle</td>\n",
       "      <td>5</td>\n",
       "      <td>45756.0</td>\n",
       "      <td>4</td>\n",
       "      <td>Other</td>\n",
       "      <td>Other</td>\n",
       "    </tr>\n",
       "    <tr>\n",
       "      <th>2139</th>\n",
       "      <td>Night Game</td>\n",
       "      <td>Tuesday</td>\n",
       "      <td>53.0</td>\n",
       "      <td>Drizzle</td>\n",
       "      <td>3</td>\n",
       "      <td>27356.0</td>\n",
       "      <td>1</td>\n",
       "      <td>Other</td>\n",
       "      <td>Other</td>\n",
       "    </tr>\n",
       "    <tr>\n",
       "      <th>2190</th>\n",
       "      <td>Day Game</td>\n",
       "      <td>Thursday</td>\n",
       "      <td>55.0</td>\n",
       "      <td>Drizzle</td>\n",
       "      <td>3</td>\n",
       "      <td>22112.0</td>\n",
       "      <td>3</td>\n",
       "      <td>Other</td>\n",
       "      <td>Other</td>\n",
       "    </tr>\n",
       "  </tbody>\n",
       "</table>\n",
       "</div>"
      ],
      "text/plain": [
       "       game_type day_of_week  temperature      sky  total_runs  attendance  \\\n",
       "58      Day Game      Sunday         50.0  Drizzle           7     39077.0   \n",
       "63    Night Game      Sunday         49.0  Drizzle          15     34279.0   \n",
       "81    Night Game      Friday         62.0  Drizzle           8     34264.0   \n",
       "340   Night Game      Friday         56.0  Drizzle           9     33955.0   \n",
       "410   Night Game    Saturday         56.0  Drizzle           7     37396.0   \n",
       "414   Night Game      Friday         66.0  Drizzle          11     30857.0   \n",
       "439   Night Game   Wednesday         60.0  Drizzle           9     26934.0   \n",
       "527   Night Game     Tuesday         64.0  Drizzle           7     34319.0   \n",
       "925   Night Game    Thursday         74.0  Drizzle          10     24099.0   \n",
       "1403    Day Game      Monday         76.0  Drizzle           6     41850.0   \n",
       "1488  Night Game      Monday         82.0  Drizzle          15     33109.0   \n",
       "1774  Night Game      Friday         74.0  Drizzle           6     43560.0   \n",
       "2073  Night Game      Monday         61.0  Drizzle           5     12103.0   \n",
       "2098  Night Game      Friday         50.0  Drizzle           5     45756.0   \n",
       "2139  Night Game     Tuesday         53.0  Drizzle           3     27356.0   \n",
       "2190    Day Game    Thursday         55.0  Drizzle           3     22112.0   \n",
       "\n",
       "      day_of_week_codes sky_combined sky_combined_pct  \n",
       "58                    6        Other            Other  \n",
       "63                    6        Other            Other  \n",
       "81                    4        Other            Other  \n",
       "340                   4        Other            Other  \n",
       "410                   5        Other            Other  \n",
       "414                   4        Other            Other  \n",
       "439                   2        Other            Other  \n",
       "527                   1        Other            Other  \n",
       "925                   3        Other            Other  \n",
       "1403                  0        Other            Other  \n",
       "1488                  0        Other            Other  \n",
       "1774                  4        Other            Other  \n",
       "2073                  0        Other            Other  \n",
       "2098                  4        Other            Other  \n",
       "2139                  1        Other            Other  \n",
       "2190                  3        Other            Other  "
      ]
     },
     "execution_count": 33,
     "metadata": {},
     "output_type": "execute_result"
    }
   ],
   "source": [
    "# combine categories based on a threshold pct (i.e. the category appears in less than 10% of records)\n",
    "# function pulled from https://milos.ai/2019/01/merging-categories-with-small-frequencies\n",
    "threshold_percent = 10\n",
    "series = pd.value_counts(bb['sky'])\n",
    "mask = (series / series.sum() * 100).lt(threshold_percent)\n",
    "bb = bb.assign(sky_combined_pct = np.where(bb['sky'].isin(series[mask].index),'Other', bb['sky']))\n",
    "\n",
    "bb[bb['sky'] == 'Drizzle']"
   ]
  },
  {
   "cell_type": "markdown",
   "metadata": {},
   "source": [
    "### Binning numeric data"
   ]
  },
  {
   "cell_type": "markdown",
   "metadata": {},
   "source": [
    "Binning numeric data is arranging the data into categories based on a range of values. Binning data can be useful for creating more appealing visualizations, or improving a machine learning model."
   ]
  },
  {
   "cell_type": "code",
   "execution_count": 19,
   "metadata": {},
   "outputs": [
    {
     "data": {
      "text/html": [
       "<div>\n",
       "<style scoped>\n",
       "    .dataframe tbody tr th:only-of-type {\n",
       "        vertical-align: middle;\n",
       "    }\n",
       "\n",
       "    .dataframe tbody tr th {\n",
       "        vertical-align: top;\n",
       "    }\n",
       "\n",
       "    .dataframe thead th {\n",
       "        text-align: right;\n",
       "    }\n",
       "</style>\n",
       "<table border=\"1\" class=\"dataframe\">\n",
       "  <thead>\n",
       "    <tr style=\"text-align: right;\">\n",
       "      <th></th>\n",
       "      <th>temp_binned</th>\n",
       "      <th>temperature</th>\n",
       "    </tr>\n",
       "  </thead>\n",
       "  <tbody>\n",
       "    <tr>\n",
       "      <th>0</th>\n",
       "      <td>(70, 80]</td>\n",
       "      <td>74.0</td>\n",
       "    </tr>\n",
       "    <tr>\n",
       "      <th>1</th>\n",
       "      <td>(50, 60]</td>\n",
       "      <td>55.0</td>\n",
       "    </tr>\n",
       "    <tr>\n",
       "      <th>2</th>\n",
       "      <td>(40, 50]</td>\n",
       "      <td>48.0</td>\n",
       "    </tr>\n",
       "    <tr>\n",
       "      <th>3</th>\n",
       "      <td>(60, 70]</td>\n",
       "      <td>65.0</td>\n",
       "    </tr>\n",
       "    <tr>\n",
       "      <th>4</th>\n",
       "      <td>(70, 80]</td>\n",
       "      <td>77.0</td>\n",
       "    </tr>\n",
       "  </tbody>\n",
       "</table>\n",
       "</div>"
      ],
      "text/plain": [
       "  temp_binned  temperature\n",
       "0    (70, 80]         74.0\n",
       "1    (50, 60]         55.0\n",
       "2    (40, 50]         48.0\n",
       "3    (60, 70]         65.0\n",
       "4    (70, 80]         77.0"
      ]
     },
     "execution_count": 19,
     "metadata": {},
     "output_type": "execute_result"
    }
   ],
   "source": [
    "# create bins for temperature variable\n",
    "bins = [30, 40, 50, 60, 70, 80, 90, 100, 110]\n",
    "bb['temp_binned'] = pd.cut(bb['temperature'], bins)\n",
    "\n",
    "bb[['temp_binned', 'temperature']].head()"
   ]
  },
  {
   "cell_type": "markdown",
   "metadata": {},
   "source": [
    "## Scaling and normalization"
   ]
  },
  {
   "cell_type": "markdown",
   "metadata": {},
   "source": [
    "For quantitative features, it is important to think about how each feature is scaled. Some features will be on vastly different scales than others just based on the nature of what the feature is measuring. <br>\n",
    "\n",
    "When working with features with largely differing scales, it is often a good idea to standardize the features so that they all have a mean of 0 and a standard deviation of 1. The goal of normalization is to make every datapoint have the same scale so each feature is equally important. <br>\n",
    "\n",
    "A feature without any values close to zero may also make it more difficult to estimate and interpret the intercept of a regression model. Standardizing or otherwise re-scaling the feature can fix this issue."
   ]
  },
  {
   "cell_type": "code",
   "execution_count": 20,
   "metadata": {},
   "outputs": [
    {
     "data": {
      "text/html": [
       "<div>\n",
       "<style scoped>\n",
       "    .dataframe tbody tr th:only-of-type {\n",
       "        vertical-align: middle;\n",
       "    }\n",
       "\n",
       "    .dataframe tbody tr th {\n",
       "        vertical-align: top;\n",
       "    }\n",
       "\n",
       "    .dataframe thead th {\n",
       "        text-align: right;\n",
       "    }\n",
       "</style>\n",
       "<table border=\"1\" class=\"dataframe\">\n",
       "  <thead>\n",
       "    <tr style=\"text-align: right;\">\n",
       "      <th></th>\n",
       "      <th>temperature</th>\n",
       "      <th>total_runs</th>\n",
       "      <th>attendance</th>\n",
       "      <th>day_of_week_codes</th>\n",
       "    </tr>\n",
       "  </thead>\n",
       "  <tbody>\n",
       "    <tr>\n",
       "      <th>count</th>\n",
       "      <td>2463.000000</td>\n",
       "      <td>2463.000000</td>\n",
       "      <td>2460.000000</td>\n",
       "      <td>2463.000000</td>\n",
       "    </tr>\n",
       "    <tr>\n",
       "      <th>mean</th>\n",
       "      <td>73.818920</td>\n",
       "      <td>8.933415</td>\n",
       "      <td>30370.703659</td>\n",
       "      <td>3.161186</td>\n",
       "    </tr>\n",
       "    <tr>\n",
       "      <th>std</th>\n",
       "      <td>10.583106</td>\n",
       "      <td>4.480352</td>\n",
       "      <td>9875.466703</td>\n",
       "      <td>1.997867</td>\n",
       "    </tr>\n",
       "    <tr>\n",
       "      <th>min</th>\n",
       "      <td>31.000000</td>\n",
       "      <td>1.000000</td>\n",
       "      <td>8766.000000</td>\n",
       "      <td>0.000000</td>\n",
       "    </tr>\n",
       "    <tr>\n",
       "      <th>25%</th>\n",
       "      <td>67.000000</td>\n",
       "      <td>6.000000</td>\n",
       "      <td>22432.000000</td>\n",
       "      <td>1.000000</td>\n",
       "    </tr>\n",
       "    <tr>\n",
       "      <th>50%</th>\n",
       "      <td>74.000000</td>\n",
       "      <td>8.000000</td>\n",
       "      <td>30604.500000</td>\n",
       "      <td>3.000000</td>\n",
       "    </tr>\n",
       "    <tr>\n",
       "      <th>75%</th>\n",
       "      <td>81.000000</td>\n",
       "      <td>12.000000</td>\n",
       "      <td>38396.250000</td>\n",
       "      <td>5.000000</td>\n",
       "    </tr>\n",
       "    <tr>\n",
       "      <th>max</th>\n",
       "      <td>101.000000</td>\n",
       "      <td>29.000000</td>\n",
       "      <td>54449.000000</td>\n",
       "      <td>6.000000</td>\n",
       "    </tr>\n",
       "  </tbody>\n",
       "</table>\n",
       "</div>"
      ],
      "text/plain": [
       "       temperature   total_runs    attendance  day_of_week_codes\n",
       "count  2463.000000  2463.000000   2460.000000        2463.000000\n",
       "mean     73.818920     8.933415  30370.703659           3.161186\n",
       "std      10.583106     4.480352   9875.466703           1.997867\n",
       "min      31.000000     1.000000   8766.000000           0.000000\n",
       "25%      67.000000     6.000000  22432.000000           1.000000\n",
       "50%      74.000000     8.000000  30604.500000           3.000000\n",
       "75%      81.000000    12.000000  38396.250000           5.000000\n",
       "max     101.000000    29.000000  54449.000000           6.000000"
      ]
     },
     "execution_count": 20,
     "metadata": {},
     "output_type": "execute_result"
    }
   ],
   "source": [
    "bb.describe()\n",
    "\n",
    "# temperature and total_runs are on different scales because what they are measuring are different"
   ]
  },
  {
   "cell_type": "markdown",
   "metadata": {},
   "source": [
    "### Data centering\n",
    "#### Distance from mean\n",
    "Subtract the mean of the variable from each data point so that the new mean is zero. This tells us how far above or below the mean each data point is.\n",
    "\n",
    "#### Percent distance from mean\n",
    "Divide each data point by the mean of the variable so that the new mean is one. This tells us each data point's percent distance from the mean (i.e. a centered value of 1.07 is 7% above the mean)."
   ]
  },
  {
   "cell_type": "markdown",
   "metadata": {},
   "source": [
    "### Min - max normalization\n",
    "For every feature, the minimum value of that feature gets transformed into a 0, the maximum value gets transformed into a 1, and every other value gets transformed into a decimal between 0 and 1. Min-max normalization does not handle outliers very well because this method maintains the proportional distance between features from the origional scale.\n",
    "\n",
    "Min-max normalization: Guarantees all features will have the exact same scale but does not handle outliers well."
   ]
  },
  {
   "cell_type": "markdown",
   "metadata": {},
   "source": [
    "### Z-Score normalization\n",
    "If a value is exactly equal to the mean of all the values of the feature, it will be normalized to 0. If it is below the mean, it will be a negative number, and if it is above the mean it will be a positive number. The size of those negative and positive numbers is determined by the standard deviation of the original feature. If the unnormalized data had a large standard deviation, the normalized values will be closer to 0.\n",
    "\n",
    "Z-score normalization: Handles outliers, but does not produce normalized data with the exact same scale."
   ]
  },
  {
   "cell_type": "code",
   "execution_count": null,
   "metadata": {},
   "outputs": [],
   "source": []
  },
  {
   "cell_type": "markdown",
   "metadata": {},
   "source": [
    "## Outliers"
   ]
  },
  {
   "cell_type": "markdown",
   "metadata": {},
   "source": [
    "In our EDA, it is important to check for outliers and skew in the data. One way to check for outliers is to use visualizations, including scatterplots and boxplots."
   ]
  },
  {
   "cell_type": "code",
   "execution_count": 21,
   "metadata": {},
   "outputs": [
    {
     "data": {
      "text/plain": [
       "<matplotlib.axes._subplots.AxesSubplot at 0x2587633f588>"
      ]
     },
     "execution_count": 21,
     "metadata": {},
     "output_type": "execute_result"
    },
    {
     "data": {
      "image/png": "[encoded data removed]",
      "text/plain": [
       "<Figure size 432x288 with 1 Axes>"
      ]
     },
     "metadata": {
      "needs_background": "light"
     },
     "output_type": "display_data"
    }
   ],
   "source": [
    "bb.plot.scatter(x = 'total_runs',y = 'attendance')"
   ]
  },
  {
   "cell_type": "markdown",
   "metadata": {},
   "source": [
    "If there is an outlier, we may first want to verify that this value is correct, then we can decide whether or not to remove it.\n",
    "\n",
    "*insert IQR outlier replacement formula*"
   ]
  },
  {
   "cell_type": "markdown",
   "metadata": {},
   "source": [
    "### IQR replacement method\n",
    "The IQR replacement method replaces all high outliers with the upper whisker value (Q3 + 1.5 * IQR) and all low outliers with the lower whisker value (Q1 - 1.5 * IQR)"
   ]
  },
  {
   "cell_type": "code",
   "execution_count": 22,
   "metadata": {},
   "outputs": [
    {
     "name": "stderr",
     "output_type": "stream",
     "text": [
      "c:\\users\\kspanos\\appdata\\local\\programs\\python\\python37\\lib\\site-packages\\pandas\\core\\indexing.py:966: SettingWithCopyWarning: \n",
      "A value is trying to be set on a copy of a slice from a DataFrame.\n",
      "Try using .loc[row_indexer,col_indexer] = value instead\n",
      "\n",
      "See the caveats in the documentation: https://pandas.pydata.org/pandas-docs/stable/user_guide/indexing.html#returning-a-view-versus-a-copy\n",
      "  self.obj[item] = s\n",
      "c:\\users\\kspanos\\appdata\\local\\programs\\python\\python37\\lib\\site-packages\\pandas\\core\\indexing.py:671: SettingWithCopyWarning: \n",
      "A value is trying to be set on a copy of a slice from a DataFrame\n",
      "\n",
      "See the caveats in the documentation: https://pandas.pydata.org/pandas-docs/stable/user_guide/indexing.html#returning-a-view-versus-a-copy\n",
      "  self._setitem_with_indexer(indexer, value)\n",
      "c:\\users\\kspanos\\appdata\\local\\programs\\python\\python37\\lib\\site-packages\\ipykernel_launcher.py:12: SettingWithCopyWarning: \n",
      "A value is trying to be set on a copy of a slice from a DataFrame\n",
      "\n",
      "See the caveats in the documentation: https://pandas.pydata.org/pandas-docs/stable/user_guide/indexing.html#returning-a-view-versus-a-copy\n",
      "  if sys.path[0] == '':\n",
      "c:\\users\\kspanos\\appdata\\local\\programs\\python\\python37\\lib\\site-packages\\ipykernel_launcher.py:11: SettingWithCopyWarning: \n",
      "A value is trying to be set on a copy of a slice from a DataFrame\n",
      "\n",
      "See the caveats in the documentation: https://pandas.pydata.org/pandas-docs/stable/user_guide/indexing.html#returning-a-view-versus-a-copy\n",
      "  # This is added back by InteractiveShellApp.init_path()\n"
     ]
    }
   ],
   "source": [
    "# separate numerical fields from categorical\n",
    "bb = bb.select_dtypes(include=['float64', 'int64'])\n",
    "\n",
    "# replace outliers with upper whisker / lower whisker value\n",
    "for column in bb:\n",
    "    q1 = bb[column].quantile(0.25)\n",
    "    q3 = bb[column].quantile(0.75)\n",
    "    iqr = q3 - q1\n",
    "    upper_whisker = q3 + (iqr*1.5)\n",
    "    lower_whisker = q1 - (iqr*1.5)\n",
    "    bb.loc[bb[column] > upper_whisker, column] = upper_whisker\n",
    "    bb.loc[bb[column] < lower_whisker, column] = lower_whisker"
   ]
  },
  {
   "cell_type": "markdown",
   "metadata": {},
   "source": [
    "## Distributions and associations"
   ]
  },
  {
   "cell_type": "markdown",
   "metadata": {},
   "source": [
    "Prior to fitting a linear regression model, it can be important to inspect the distributions of quantitative features and investigate the relationships between features. We can visually inspect both of these by using a pair plot:"
   ]
  },
  {
   "cell_type": "markdown",
   "metadata": {},
   "source": [
    "### Pairplots (scatterplots and histograms)"
   ]
  },
  {
   "cell_type": "code",
   "execution_count": 23,
   "metadata": {},
   "outputs": [
    {
     "data": {
      "text/plain": [
       "<seaborn.axisgrid.PairGrid at 0x258740d1148>"
      ]
     },
     "execution_count": 23,
     "metadata": {},
     "output_type": "execute_result"
    },
    {
     "data": {
      "image/png": "[encoded data removed]",
      "text/plain": [
       "<Figure size 540x540 with 12 Axes>"
      ]
     },
     "metadata": {
      "needs_background": "light"
     },
     "output_type": "display_data"
    }
   ],
   "source": [
    "sns.pairplot(bb)"
   ]
  },
  {
   "cell_type": "markdown",
   "metadata": {},
   "source": [
    "Looking at the histograms along the diagonal, total_runs appears to be somewhat right-skewed. This indicates that we may want to transform this feature to make it more normally distributed.<br>\n",
    "*add further information about interpreting histograms*<br>\n",
    "\n",
    "We can explore the relationships between pairs of features by looking at the scatterplots off of the diagonal. This is useful for a few different reasons. For example, if we see non-linear associations between any of the predictors and the outcome variable, that might lead us to test out polynomial terms in our model. We can also get a sense for which features are most highly related to our outcome variable and check for collinearity. In this example, there appears to be a slight positive linear association between temperature and the total number of runs. We can further investigate this using a heat map of the correlation matrix:"
   ]
  },
  {
   "cell_type": "markdown",
   "metadata": {},
   "source": [
    "### Log Transformation\n",
    "\n",
    "Generally, if skewness is less than -1 or greater than 1, the distribution is highly skewed. If we were to use skewed data in a machine learning model, the prediction model would be trained on a much larger number of lower values so it would have trouble predicting the results fir higher values, or the reverse."
   ]
  },
  {
   "cell_type": "code",
   "execution_count": 38,
   "metadata": {},
   "outputs": [
    {
     "data": {
      "text/plain": [
       "0.6794529830894894"
      ]
     },
     "execution_count": 38,
     "metadata": {},
     "output_type": "execute_result"
    }
   ],
   "source": [
    "# investigate skew of data\n",
    "bb['total_runs'].skew()\n",
    "\n",
    "# this data is not highly skewed, but we will apply a log transformation as an example"
   ]
  },
  {
   "cell_type": "code",
   "execution_count": 37,
   "metadata": {},
   "outputs": [
    {
     "name": "stderr",
     "output_type": "stream",
     "text": [
      "c:\\users\\kspanos\\appdata\\local\\programs\\python\\python37\\lib\\site-packages\\seaborn\\distributions.py:2557: FutureWarning: `distplot` is a deprecated function and will be removed in a future version. Please adapt your code to use either `displot` (a figure-level function with similar flexibility) or `histplot` (an axes-level function for histograms).\n",
      "  warnings.warn(msg, FutureWarning)\n"
     ]
    },
    {
     "data": {
      "text/plain": [
       "<matplotlib.axes._subplots.AxesSubplot at 0x271f822f308>"
      ]
     },
     "execution_count": 37,
     "metadata": {},
     "output_type": "execute_result"
    },
    {
     "data": {
      "image/png": "[encoded data removed]",
      "text/plain": [
       "<Figure size 432x288 with 1 Axes>"
      ]
     },
     "metadata": {
      "needs_background": "light"
     },
     "output_type": "display_data"
    }
   ],
   "source": [
    "# visualize skew\n",
    "sns.distplot(bb['total_runs'])"
   ]
  },
  {
   "cell_type": "code",
   "execution_count": 41,
   "metadata": {},
   "outputs": [],
   "source": [
    "# apply log transformation\n",
    "bb['log_total_runs'] = np.log(bb['total_runs'])"
   ]
  },
  {
   "cell_type": "markdown",
   "metadata": {},
   "source": [
    "### Correlation matrix"
   ]
  },
  {
   "cell_type": "code",
   "execution_count": 24,
   "metadata": {},
   "outputs": [
    {
     "data": {
      "text/plain": [
       "<matplotlib.axes._subplots.AxesSubplot at 0x25876af5608>"
      ]
     },
     "execution_count": 24,
     "metadata": {},
     "output_type": "execute_result"
    },
    {
     "data": {
      "image/png": "[encoded data removed]",
      "text/plain": [
       "<Figure size 432x288 with 2 Axes>"
      ]
     },
     "metadata": {
      "needs_background": "light"
     },
     "output_type": "display_data"
    }
   ],
   "source": [
    "corr = bb.corr()\n",
    "sns.heatmap(\n",
    "    corr, \n",
    "    vmin=-1, vmax=1, center=0,\n",
    "    cmap=sns.diverging_palette(20, 220, n=200),\n",
    "    square=True,\n",
    "    annot=True\n",
    ")"
   ]
  },
  {
   "cell_type": "markdown",
   "metadata": {},
   "source": [
    "Similar to linear regression, some classification models assume no multicollinearity in the data, meaning that two highly correlated predictors should not be included in the model. We can check this assumption by looking at a correlation heat map. On the other hand, features that are highly correlated with our outcome variable are especially important to include in the model."
   ]
  },
  {
   "cell_type": "markdown",
   "metadata": {},
   "source": [
    "## Additional items to add\n",
    "\n",
    "- Principal component analysis (PCA)\n",
    "- Other outlier methods\n",
    "- Additional methods for transforming skewed data (cube root transformation, square transformation)"
   ]
  },
  {
   "cell_type": "code",
   "execution_count": null,
   "metadata": {},
   "outputs": [],
   "source": []
  }
 ],
 "metadata": {
  "kernelspec": {
   "display_name": "Python 3",
   "language": "python",
   "name": "python3"
  },
  "language_info": {
   "codemirror_mode": {
    "name": "ipython",
    "version": 3
   },
   "file_extension": ".py",
   "mimetype": "text/x-python",
   "name": "python",
   "nbconvert_exporter": "python",
   "pygments_lexer": "ipython3",
   "version": "3.7.6"
  }
 },
 "nbformat": 4,
 "nbformat_minor": 4
}
